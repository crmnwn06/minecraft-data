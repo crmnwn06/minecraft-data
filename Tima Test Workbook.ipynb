{
 "cells": [
  {
   "cell_type": "code",
   "execution_count": 1,
   "id": "abdee0a8-3470-4b8d-85fe-913fd9c9eebd",
   "metadata": {},
   "outputs": [
    {
     "name": "stderr",
     "output_type": "stream",
     "text": [
      "── \u001b[1mAttaching core tidyverse packages\u001b[22m ──────────────────────── tidyverse 2.0.0 ──\n",
      "\u001b[32m✔\u001b[39m \u001b[34mdplyr    \u001b[39m 1.1.4     \u001b[32m✔\u001b[39m \u001b[34mreadr    \u001b[39m 2.1.5\n",
      "\u001b[32m✔\u001b[39m \u001b[34mforcats  \u001b[39m 1.0.0     \u001b[32m✔\u001b[39m \u001b[34mstringr  \u001b[39m 1.5.1\n",
      "\u001b[32m✔\u001b[39m \u001b[34mggplot2  \u001b[39m 3.5.1     \u001b[32m✔\u001b[39m \u001b[34mtibble   \u001b[39m 3.2.1\n",
      "\u001b[32m✔\u001b[39m \u001b[34mlubridate\u001b[39m 1.9.3     \u001b[32m✔\u001b[39m \u001b[34mtidyr    \u001b[39m 1.3.1\n",
      "\u001b[32m✔\u001b[39m \u001b[34mpurrr    \u001b[39m 1.0.2     \n",
      "── \u001b[1mConflicts\u001b[22m ────────────────────────────────────────── tidyverse_conflicts() ──\n",
      "\u001b[31m✖\u001b[39m \u001b[34mdplyr\u001b[39m::\u001b[32mfilter()\u001b[39m masks \u001b[34mstats\u001b[39m::filter()\n",
      "\u001b[31m✖\u001b[39m \u001b[34mdplyr\u001b[39m::\u001b[32mlag()\u001b[39m    masks \u001b[34mstats\u001b[39m::lag()\n",
      "\u001b[36mℹ\u001b[39m Use the conflicted package (\u001b[3m\u001b[34m<http://conflicted.r-lib.org/>\u001b[39m\u001b[23m) to force all conflicts to become errors\n",
      "── \u001b[1mAttaching packages\u001b[22m ────────────────────────────────────── tidymodels 1.1.1 ──\n",
      "\n",
      "\u001b[32m✔\u001b[39m \u001b[34mbroom       \u001b[39m 1.0.6     \u001b[32m✔\u001b[39m \u001b[34mrsample     \u001b[39m 1.2.1\n",
      "\u001b[32m✔\u001b[39m \u001b[34mdials       \u001b[39m 1.3.0     \u001b[32m✔\u001b[39m \u001b[34mtune        \u001b[39m 1.1.2\n",
      "\u001b[32m✔\u001b[39m \u001b[34minfer       \u001b[39m 1.0.7     \u001b[32m✔\u001b[39m \u001b[34mworkflows   \u001b[39m 1.1.4\n",
      "\u001b[32m✔\u001b[39m \u001b[34mmodeldata   \u001b[39m 1.4.0     \u001b[32m✔\u001b[39m \u001b[34mworkflowsets\u001b[39m 1.0.1\n",
      "\u001b[32m✔\u001b[39m \u001b[34mparsnip     \u001b[39m 1.2.1     \u001b[32m✔\u001b[39m \u001b[34myardstick   \u001b[39m 1.3.1\n",
      "\u001b[32m✔\u001b[39m \u001b[34mrecipes     \u001b[39m 1.1.0     \n",
      "\n",
      "── \u001b[1mConflicts\u001b[22m ───────────────────────────────────────── tidymodels_conflicts() ──\n",
      "\u001b[31m✖\u001b[39m \u001b[34mscales\u001b[39m::\u001b[32mdiscard()\u001b[39m masks \u001b[34mpurrr\u001b[39m::discard()\n",
      "\u001b[31m✖\u001b[39m \u001b[34mdplyr\u001b[39m::\u001b[32mfilter()\u001b[39m   masks \u001b[34mstats\u001b[39m::filter()\n",
      "\u001b[31m✖\u001b[39m \u001b[34mrecipes\u001b[39m::\u001b[32mfixed()\u001b[39m  masks \u001b[34mstringr\u001b[39m::fixed()\n",
      "\u001b[31m✖\u001b[39m \u001b[34mdplyr\u001b[39m::\u001b[32mlag()\u001b[39m      masks \u001b[34mstats\u001b[39m::lag()\n",
      "\u001b[31m✖\u001b[39m \u001b[34myardstick\u001b[39m::\u001b[32mspec()\u001b[39m masks \u001b[34mreadr\u001b[39m::spec()\n",
      "\u001b[31m✖\u001b[39m \u001b[34mrecipes\u001b[39m::\u001b[32mstep()\u001b[39m   masks \u001b[34mstats\u001b[39m::step()\n",
      "\u001b[34m•\u001b[39m Dig deeper into tidy modeling with R at \u001b[32mhttps://www.tmwr.org\u001b[39m\n",
      "\n"
     ]
    }
   ],
   "source": [
    "library(tidyverse)\n",
    "library(repr)\n",
    "library(tidymodels)"
   ]
  },
  {
   "cell_type": "code",
   "execution_count": 6,
   "id": "d2393331-79d8-4d2a-9dd3-30d44ae5ee56",
   "metadata": {},
   "outputs": [
    {
     "name": "stderr",
     "output_type": "stream",
     "text": [
      "\u001b[1mRows: \u001b[22m\u001b[34m196\u001b[39m \u001b[1mColumns: \u001b[22m\u001b[34m7\u001b[39m\n",
      "\u001b[36m──\u001b[39m \u001b[1mColumn specification\u001b[22m \u001b[36m────────────────────────────────────────────────────────\u001b[39m\n",
      "\u001b[1mDelimiter:\u001b[22m \",\"\n",
      "\u001b[31mchr\u001b[39m (4): experience, hashedEmail, name, gender\n",
      "\u001b[32mdbl\u001b[39m (2): played_hours, Age\n",
      "\u001b[33mlgl\u001b[39m (1): subscribe\n",
      "\n",
      "\u001b[36mℹ\u001b[39m Use `spec()` to retrieve the full column specification for this data.\n",
      "\u001b[36mℹ\u001b[39m Specify the column types or set `show_col_types = FALSE` to quiet this message.\n"
     ]
    },
    {
     "data": {
      "text/html": [
       "<table class=\"dataframe\">\n",
       "<caption>A tibble: 6 × 7</caption>\n",
       "<thead>\n",
       "\t<tr><th scope=col>experience</th><th scope=col>subscribe</th><th scope=col>hashedEmail</th><th scope=col>played_hours</th><th scope=col>name</th><th scope=col>gender</th><th scope=col>Age</th></tr>\n",
       "\t<tr><th scope=col>&lt;chr&gt;</th><th scope=col>&lt;lgl&gt;</th><th scope=col>&lt;chr&gt;</th><th scope=col>&lt;dbl&gt;</th><th scope=col>&lt;chr&gt;</th><th scope=col>&lt;chr&gt;</th><th scope=col>&lt;dbl&gt;</th></tr>\n",
       "</thead>\n",
       "<tbody>\n",
       "\t<tr><td>Pro    </td><td> TRUE</td><td>f6daba428a5e19a3d47574858c13550499be23603422e6a0ee9728f8b53e192d</td><td>30.3</td><td>Morgan   </td><td>Male  </td><td> 9</td></tr>\n",
       "\t<tr><td>Veteran</td><td> TRUE</td><td>f3c813577c458ba0dfef80996f8f32c93b6e8af1fa939732842f2312358a88e9</td><td> 3.8</td><td>Christian</td><td>Male  </td><td>17</td></tr>\n",
       "\t<tr><td>Veteran</td><td>FALSE</td><td>b674dd7ee0d24096d1c019615ce4d12b20fcbff12d79d3c5a9d2118eb7ccbb28</td><td> 0.0</td><td>Blake    </td><td>Male  </td><td>17</td></tr>\n",
       "\t<tr><td>Amateur</td><td> TRUE</td><td>23fe711e0e3b77f1da7aa221ab1192afe21648d47d2b4fa7a5a659ff443a0eb5</td><td> 0.7</td><td>Flora    </td><td>Female</td><td>21</td></tr>\n",
       "\t<tr><td>Regular</td><td> TRUE</td><td>7dc01f10bf20671ecfccdac23812b1b415acd42c2147cb0af4d48fcce2420f3e</td><td> 0.1</td><td>Kylie    </td><td>Male  </td><td>21</td></tr>\n",
       "\t<tr><td>Amateur</td><td> TRUE</td><td>f58aad5996a435f16b0284a3b267f973f9af99e7a89bee0430055a44fa92f977</td><td> 0.0</td><td>Adrian   </td><td>Female</td><td>17</td></tr>\n",
       "</tbody>\n",
       "</table>\n"
      ],
      "text/latex": [
       "A tibble: 6 × 7\n",
       "\\begin{tabular}{lllllll}\n",
       " experience & subscribe & hashedEmail & played\\_hours & name & gender & Age\\\\\n",
       " <chr> & <lgl> & <chr> & <dbl> & <chr> & <chr> & <dbl>\\\\\n",
       "\\hline\n",
       "\t Pro     &  TRUE & f6daba428a5e19a3d47574858c13550499be23603422e6a0ee9728f8b53e192d & 30.3 & Morgan    & Male   &  9\\\\\n",
       "\t Veteran &  TRUE & f3c813577c458ba0dfef80996f8f32c93b6e8af1fa939732842f2312358a88e9 &  3.8 & Christian & Male   & 17\\\\\n",
       "\t Veteran & FALSE & b674dd7ee0d24096d1c019615ce4d12b20fcbff12d79d3c5a9d2118eb7ccbb28 &  0.0 & Blake     & Male   & 17\\\\\n",
       "\t Amateur &  TRUE & 23fe711e0e3b77f1da7aa221ab1192afe21648d47d2b4fa7a5a659ff443a0eb5 &  0.7 & Flora     & Female & 21\\\\\n",
       "\t Regular &  TRUE & 7dc01f10bf20671ecfccdac23812b1b415acd42c2147cb0af4d48fcce2420f3e &  0.1 & Kylie     & Male   & 21\\\\\n",
       "\t Amateur &  TRUE & f58aad5996a435f16b0284a3b267f973f9af99e7a89bee0430055a44fa92f977 &  0.0 & Adrian    & Female & 17\\\\\n",
       "\\end{tabular}\n"
      ],
      "text/markdown": [
       "\n",
       "A tibble: 6 × 7\n",
       "\n",
       "| experience &lt;chr&gt; | subscribe &lt;lgl&gt; | hashedEmail &lt;chr&gt; | played_hours &lt;dbl&gt; | name &lt;chr&gt; | gender &lt;chr&gt; | Age &lt;dbl&gt; |\n",
       "|---|---|---|---|---|---|---|\n",
       "| Pro     |  TRUE | f6daba428a5e19a3d47574858c13550499be23603422e6a0ee9728f8b53e192d | 30.3 | Morgan    | Male   |  9 |\n",
       "| Veteran |  TRUE | f3c813577c458ba0dfef80996f8f32c93b6e8af1fa939732842f2312358a88e9 |  3.8 | Christian | Male   | 17 |\n",
       "| Veteran | FALSE | b674dd7ee0d24096d1c019615ce4d12b20fcbff12d79d3c5a9d2118eb7ccbb28 |  0.0 | Blake     | Male   | 17 |\n",
       "| Amateur |  TRUE | 23fe711e0e3b77f1da7aa221ab1192afe21648d47d2b4fa7a5a659ff443a0eb5 |  0.7 | Flora     | Female | 21 |\n",
       "| Regular |  TRUE | 7dc01f10bf20671ecfccdac23812b1b415acd42c2147cb0af4d48fcce2420f3e |  0.1 | Kylie     | Male   | 21 |\n",
       "| Amateur |  TRUE | f58aad5996a435f16b0284a3b267f973f9af99e7a89bee0430055a44fa92f977 |  0.0 | Adrian    | Female | 17 |\n",
       "\n"
      ],
      "text/plain": [
       "  experience subscribe\n",
       "1 Pro         TRUE    \n",
       "2 Veteran     TRUE    \n",
       "3 Veteran    FALSE    \n",
       "4 Amateur     TRUE    \n",
       "5 Regular     TRUE    \n",
       "6 Amateur     TRUE    \n",
       "  hashedEmail                                                      played_hours\n",
       "1 f6daba428a5e19a3d47574858c13550499be23603422e6a0ee9728f8b53e192d 30.3        \n",
       "2 f3c813577c458ba0dfef80996f8f32c93b6e8af1fa939732842f2312358a88e9  3.8        \n",
       "3 b674dd7ee0d24096d1c019615ce4d12b20fcbff12d79d3c5a9d2118eb7ccbb28  0.0        \n",
       "4 23fe711e0e3b77f1da7aa221ab1192afe21648d47d2b4fa7a5a659ff443a0eb5  0.7        \n",
       "5 7dc01f10bf20671ecfccdac23812b1b415acd42c2147cb0af4d48fcce2420f3e  0.1        \n",
       "6 f58aad5996a435f16b0284a3b267f973f9af99e7a89bee0430055a44fa92f977  0.0        \n",
       "  name      gender Age\n",
       "1 Morgan    Male    9 \n",
       "2 Christian Male   17 \n",
       "3 Blake     Male   17 \n",
       "4 Flora     Female 21 \n",
       "5 Kylie     Male   21 \n",
       "6 Adrian    Female 17 "
      ]
     },
     "metadata": {},
     "output_type": "display_data"
    }
   ],
   "source": [
    "players <- read_csv(\"https://raw.githubusercontent.com/crmnwn06/minecraft-data/refs/heads/main/players.csv\" )\n",
    "head(players)"
   ]
  },
  {
   "cell_type": "code",
   "execution_count": 41,
   "id": "40257156-ab80-4223-8509-0383cca6bbf4",
   "metadata": {},
   "outputs": [
    {
     "data": {
      "text/html": [
       "<table class=\"dataframe\">\n",
       "<caption>A tibble: 6 × 3</caption>\n",
       "<thead>\n",
       "\t<tr><th scope=col>subscribe</th><th scope=col>played_hours</th><th scope=col>Age</th></tr>\n",
       "\t<tr><th scope=col>&lt;fct&gt;</th><th scope=col>&lt;dbl&gt;</th><th scope=col>&lt;dbl&gt;</th></tr>\n",
       "</thead>\n",
       "<tbody>\n",
       "\t<tr><td>TRUE </td><td>30.3</td><td> 9</td></tr>\n",
       "\t<tr><td>TRUE </td><td> 3.8</td><td>17</td></tr>\n",
       "\t<tr><td>FALSE</td><td> 0.0</td><td>17</td></tr>\n",
       "\t<tr><td>TRUE </td><td> 0.7</td><td>21</td></tr>\n",
       "\t<tr><td>TRUE </td><td> 0.1</td><td>21</td></tr>\n",
       "\t<tr><td>TRUE </td><td> 0.0</td><td>17</td></tr>\n",
       "</tbody>\n",
       "</table>\n"
      ],
      "text/latex": [
       "A tibble: 6 × 3\n",
       "\\begin{tabular}{lll}\n",
       " subscribe & played\\_hours & Age\\\\\n",
       " <fct> & <dbl> & <dbl>\\\\\n",
       "\\hline\n",
       "\t TRUE  & 30.3 &  9\\\\\n",
       "\t TRUE  &  3.8 & 17\\\\\n",
       "\t FALSE &  0.0 & 17\\\\\n",
       "\t TRUE  &  0.7 & 21\\\\\n",
       "\t TRUE  &  0.1 & 21\\\\\n",
       "\t TRUE  &  0.0 & 17\\\\\n",
       "\\end{tabular}\n"
      ],
      "text/markdown": [
       "\n",
       "A tibble: 6 × 3\n",
       "\n",
       "| subscribe &lt;fct&gt; | played_hours &lt;dbl&gt; | Age &lt;dbl&gt; |\n",
       "|---|---|---|\n",
       "| TRUE  | 30.3 |  9 |\n",
       "| TRUE  |  3.8 | 17 |\n",
       "| FALSE |  0.0 | 17 |\n",
       "| TRUE  |  0.7 | 21 |\n",
       "| TRUE  |  0.1 | 21 |\n",
       "| TRUE  |  0.0 | 17 |\n",
       "\n"
      ],
      "text/plain": [
       "  subscribe played_hours Age\n",
       "1 TRUE      30.3          9 \n",
       "2 TRUE       3.8         17 \n",
       "3 FALSE      0.0         17 \n",
       "4 TRUE       0.7         21 \n",
       "5 TRUE       0.1         21 \n",
       "6 TRUE       0.0         17 "
      ]
     },
     "metadata": {},
     "output_type": "display_data"
    }
   ],
   "source": [
    "clean_player <- players |> \n",
    "select(subscribe,played_hours,Age) |>\n",
    "mutate(subscribe=as_factor(subscribe)) |>\n",
    "na.omit()\n",
    "head(clean_player)"
   ]
  },
  {
   "cell_type": "code",
   "execution_count": 20,
   "id": "e911ddb5-bd95-45cb-97a6-4be2cca3b557",
   "metadata": {},
   "outputs": [],
   "source": [
    "set.seed(2025) \n",
    "player_split <- initial_split(clean_player, prop = 0.8, strata = subscribe)\n",
    "player_train <- training(player_split)\n",
    "player_test <- testing(player_split)"
   ]
  },
  {
   "cell_type": "code",
   "execution_count": 21,
   "id": "4225fd68-7285-4196-bef2-fc1d149138bf",
   "metadata": {},
   "outputs": [],
   "source": [
    "spec <- nearest_neighbor(weight_func = \"rectangular\", neighbors = tune()) |>\n",
    "  set_engine(\"kknn\") |>\n",
    "  set_mode(\"classification\")"
   ]
  },
  {
   "cell_type": "code",
   "execution_count": 22,
   "id": "b2a418fa-a273-4382-ad89-7befbdb23669",
   "metadata": {},
   "outputs": [],
   "source": [
    "recipe <- recipe(subscribe ~ ., data = player_train) |>\n",
    "  step_scale(all_predictors()) |>\n",
    "  step_center(all_predictors())"
   ]
  },
  {
   "cell_type": "code",
   "execution_count": 45,
   "id": "b44a4da1-9d11-4953-97d3-901d9610493d",
   "metadata": {},
   "outputs": [],
   "source": [
    "k_vals <- tibble(neighbors = seq(from = 1, to = 30, by = 1))"
   ]
  },
  {
   "cell_type": "code",
   "execution_count": 46,
   "id": "9b204717-76ec-4363-bbf2-a6319df0230f",
   "metadata": {},
   "outputs": [],
   "source": [
    "player_fold <- vfold_cv(player_train, v = 5, strata = subscribe)"
   ]
  },
  {
   "cell_type": "code",
   "execution_count": 47,
   "id": "a170064c-da2f-409d-83b9-760c9a2c76fe",
   "metadata": {},
   "outputs": [
    {
     "data": {
      "text/html": [
       "<table class=\"dataframe\">\n",
       "<caption>A tibble: 30 × 7</caption>\n",
       "<thead>\n",
       "\t<tr><th scope=col>neighbors</th><th scope=col>.metric</th><th scope=col>.estimator</th><th scope=col>mean</th><th scope=col>n</th><th scope=col>std_err</th><th scope=col>.config</th></tr>\n",
       "\t<tr><th scope=col>&lt;dbl&gt;</th><th scope=col>&lt;chr&gt;</th><th scope=col>&lt;chr&gt;</th><th scope=col>&lt;dbl&gt;</th><th scope=col>&lt;int&gt;</th><th scope=col>&lt;dbl&gt;</th><th scope=col>&lt;chr&gt;</th></tr>\n",
       "</thead>\n",
       "<tbody>\n",
       "\t<tr><td> 1</td><td>accuracy</td><td>binary</td><td>0.4872984</td><td>5</td><td>0.021885027</td><td>Preprocessor1_Model01</td></tr>\n",
       "\t<tr><td> 2</td><td>accuracy</td><td>binary</td><td>0.4872984</td><td>5</td><td>0.021885027</td><td>Preprocessor1_Model02</td></tr>\n",
       "\t<tr><td> 3</td><td>accuracy</td><td>binary</td><td>0.5385081</td><td>5</td><td>0.029613802</td><td>Preprocessor1_Model03</td></tr>\n",
       "\t<tr><td> 4</td><td>accuracy</td><td>binary</td><td>0.5185081</td><td>5</td><td>0.034894319</td><td>Preprocessor1_Model04</td></tr>\n",
       "\t<tr><td> 5</td><td>accuracy</td><td>binary</td><td>0.5830780</td><td>5</td><td>0.032368318</td><td>Preprocessor1_Model05</td></tr>\n",
       "\t<tr><td> 6</td><td>accuracy</td><td>binary</td><td>0.5830780</td><td>5</td><td>0.032368318</td><td>Preprocessor1_Model06</td></tr>\n",
       "\t<tr><td> 7</td><td>accuracy</td><td>binary</td><td>0.5903763</td><td>5</td><td>0.024304465</td><td>Preprocessor1_Model07</td></tr>\n",
       "\t<tr><td> 8</td><td>accuracy</td><td>binary</td><td>0.5837097</td><td>5</td><td>0.022180205</td><td>Preprocessor1_Model08</td></tr>\n",
       "\t<tr><td> 9</td><td>accuracy</td><td>binary</td><td>0.5837097</td><td>5</td><td>0.022180205</td><td>Preprocessor1_Model09</td></tr>\n",
       "\t<tr><td>10</td><td>accuracy</td><td>binary</td><td>0.5703763</td><td>5</td><td>0.023688333</td><td>Preprocessor1_Model10</td></tr>\n",
       "\t<tr><td>11</td><td>accuracy</td><td>binary</td><td>0.6161962</td><td>5</td><td>0.039363654</td><td>Preprocessor1_Model11</td></tr>\n",
       "\t<tr><td>12</td><td>accuracy</td><td>binary</td><td>0.6036962</td><td>5</td><td>0.038149852</td><td>Preprocessor1_Model12</td></tr>\n",
       "\t<tr><td>13</td><td>accuracy</td><td>binary</td><td>0.6691129</td><td>5</td><td>0.017290631</td><td>Preprocessor1_Model13</td></tr>\n",
       "\t<tr><td>14</td><td>accuracy</td><td>binary</td><td>0.6622312</td><td>5</td><td>0.007939215</td><td>Preprocessor1_Model14</td></tr>\n",
       "\t<tr><td>15</td><td>accuracy</td><td>binary</td><td>0.6947043</td><td>5</td><td>0.008106923</td><td>Preprocessor1_Model15</td></tr>\n",
       "\t<tr><td>16</td><td>accuracy</td><td>binary</td><td>0.6947043</td><td>5</td><td>0.008106923</td><td>Preprocessor1_Model16</td></tr>\n",
       "\t<tr><td>17</td><td>accuracy</td><td>binary</td><td>0.7338575</td><td>5</td><td>0.004238477</td><td>Preprocessor1_Model17</td></tr>\n",
       "\t<tr><td>18</td><td>accuracy</td><td>binary</td><td>0.7213575</td><td>5</td><td>0.016390141</td><td>Preprocessor1_Model18</td></tr>\n",
       "\t<tr><td>19</td><td>accuracy</td><td>binary</td><td>0.7338575</td><td>5</td><td>0.004238477</td><td>Preprocessor1_Model19</td></tr>\n",
       "\t<tr><td>20</td><td>accuracy</td><td>binary</td><td>0.7338575</td><td>5</td><td>0.004238477</td><td>Preprocessor1_Model20</td></tr>\n",
       "\t<tr><td>21</td><td>accuracy</td><td>binary</td><td>0.7338575</td><td>5</td><td>0.004238477</td><td>Preprocessor1_Model21</td></tr>\n",
       "\t<tr><td>22</td><td>accuracy</td><td>binary</td><td>0.7338575</td><td>5</td><td>0.004238477</td><td>Preprocessor1_Model22</td></tr>\n",
       "\t<tr><td>23</td><td>accuracy</td><td>binary</td><td>0.7338575</td><td>5</td><td>0.004238477</td><td>Preprocessor1_Model23</td></tr>\n",
       "\t<tr><td>24</td><td>accuracy</td><td>binary</td><td>0.7338575</td><td>5</td><td>0.004238477</td><td>Preprocessor1_Model24</td></tr>\n",
       "\t<tr><td>25</td><td>accuracy</td><td>binary</td><td>0.7338575</td><td>5</td><td>0.004238477</td><td>Preprocessor1_Model25</td></tr>\n",
       "\t<tr><td>26</td><td>accuracy</td><td>binary</td><td>0.7338575</td><td>5</td><td>0.004238477</td><td>Preprocessor1_Model26</td></tr>\n",
       "\t<tr><td>27</td><td>accuracy</td><td>binary</td><td>0.7338575</td><td>5</td><td>0.004238477</td><td>Preprocessor1_Model27</td></tr>\n",
       "\t<tr><td>28</td><td>accuracy</td><td>binary</td><td>0.7338575</td><td>5</td><td>0.004238477</td><td>Preprocessor1_Model28</td></tr>\n",
       "\t<tr><td>29</td><td>accuracy</td><td>binary</td><td>0.7338575</td><td>5</td><td>0.004238477</td><td>Preprocessor1_Model29</td></tr>\n",
       "\t<tr><td>30</td><td>accuracy</td><td>binary</td><td>0.7338575</td><td>5</td><td>0.004238477</td><td>Preprocessor1_Model30</td></tr>\n",
       "</tbody>\n",
       "</table>\n"
      ],
      "text/latex": [
       "A tibble: 30 × 7\n",
       "\\begin{tabular}{lllllll}\n",
       " neighbors & .metric & .estimator & mean & n & std\\_err & .config\\\\\n",
       " <dbl> & <chr> & <chr> & <dbl> & <int> & <dbl> & <chr>\\\\\n",
       "\\hline\n",
       "\t  1 & accuracy & binary & 0.4872984 & 5 & 0.021885027 & Preprocessor1\\_Model01\\\\\n",
       "\t  2 & accuracy & binary & 0.4872984 & 5 & 0.021885027 & Preprocessor1\\_Model02\\\\\n",
       "\t  3 & accuracy & binary & 0.5385081 & 5 & 0.029613802 & Preprocessor1\\_Model03\\\\\n",
       "\t  4 & accuracy & binary & 0.5185081 & 5 & 0.034894319 & Preprocessor1\\_Model04\\\\\n",
       "\t  5 & accuracy & binary & 0.5830780 & 5 & 0.032368318 & Preprocessor1\\_Model05\\\\\n",
       "\t  6 & accuracy & binary & 0.5830780 & 5 & 0.032368318 & Preprocessor1\\_Model06\\\\\n",
       "\t  7 & accuracy & binary & 0.5903763 & 5 & 0.024304465 & Preprocessor1\\_Model07\\\\\n",
       "\t  8 & accuracy & binary & 0.5837097 & 5 & 0.022180205 & Preprocessor1\\_Model08\\\\\n",
       "\t  9 & accuracy & binary & 0.5837097 & 5 & 0.022180205 & Preprocessor1\\_Model09\\\\\n",
       "\t 10 & accuracy & binary & 0.5703763 & 5 & 0.023688333 & Preprocessor1\\_Model10\\\\\n",
       "\t 11 & accuracy & binary & 0.6161962 & 5 & 0.039363654 & Preprocessor1\\_Model11\\\\\n",
       "\t 12 & accuracy & binary & 0.6036962 & 5 & 0.038149852 & Preprocessor1\\_Model12\\\\\n",
       "\t 13 & accuracy & binary & 0.6691129 & 5 & 0.017290631 & Preprocessor1\\_Model13\\\\\n",
       "\t 14 & accuracy & binary & 0.6622312 & 5 & 0.007939215 & Preprocessor1\\_Model14\\\\\n",
       "\t 15 & accuracy & binary & 0.6947043 & 5 & 0.008106923 & Preprocessor1\\_Model15\\\\\n",
       "\t 16 & accuracy & binary & 0.6947043 & 5 & 0.008106923 & Preprocessor1\\_Model16\\\\\n",
       "\t 17 & accuracy & binary & 0.7338575 & 5 & 0.004238477 & Preprocessor1\\_Model17\\\\\n",
       "\t 18 & accuracy & binary & 0.7213575 & 5 & 0.016390141 & Preprocessor1\\_Model18\\\\\n",
       "\t 19 & accuracy & binary & 0.7338575 & 5 & 0.004238477 & Preprocessor1\\_Model19\\\\\n",
       "\t 20 & accuracy & binary & 0.7338575 & 5 & 0.004238477 & Preprocessor1\\_Model20\\\\\n",
       "\t 21 & accuracy & binary & 0.7338575 & 5 & 0.004238477 & Preprocessor1\\_Model21\\\\\n",
       "\t 22 & accuracy & binary & 0.7338575 & 5 & 0.004238477 & Preprocessor1\\_Model22\\\\\n",
       "\t 23 & accuracy & binary & 0.7338575 & 5 & 0.004238477 & Preprocessor1\\_Model23\\\\\n",
       "\t 24 & accuracy & binary & 0.7338575 & 5 & 0.004238477 & Preprocessor1\\_Model24\\\\\n",
       "\t 25 & accuracy & binary & 0.7338575 & 5 & 0.004238477 & Preprocessor1\\_Model25\\\\\n",
       "\t 26 & accuracy & binary & 0.7338575 & 5 & 0.004238477 & Preprocessor1\\_Model26\\\\\n",
       "\t 27 & accuracy & binary & 0.7338575 & 5 & 0.004238477 & Preprocessor1\\_Model27\\\\\n",
       "\t 28 & accuracy & binary & 0.7338575 & 5 & 0.004238477 & Preprocessor1\\_Model28\\\\\n",
       "\t 29 & accuracy & binary & 0.7338575 & 5 & 0.004238477 & Preprocessor1\\_Model29\\\\\n",
       "\t 30 & accuracy & binary & 0.7338575 & 5 & 0.004238477 & Preprocessor1\\_Model30\\\\\n",
       "\\end{tabular}\n"
      ],
      "text/markdown": [
       "\n",
       "A tibble: 30 × 7\n",
       "\n",
       "| neighbors &lt;dbl&gt; | .metric &lt;chr&gt; | .estimator &lt;chr&gt; | mean &lt;dbl&gt; | n &lt;int&gt; | std_err &lt;dbl&gt; | .config &lt;chr&gt; |\n",
       "|---|---|---|---|---|---|---|\n",
       "|  1 | accuracy | binary | 0.4872984 | 5 | 0.021885027 | Preprocessor1_Model01 |\n",
       "|  2 | accuracy | binary | 0.4872984 | 5 | 0.021885027 | Preprocessor1_Model02 |\n",
       "|  3 | accuracy | binary | 0.5385081 | 5 | 0.029613802 | Preprocessor1_Model03 |\n",
       "|  4 | accuracy | binary | 0.5185081 | 5 | 0.034894319 | Preprocessor1_Model04 |\n",
       "|  5 | accuracy | binary | 0.5830780 | 5 | 0.032368318 | Preprocessor1_Model05 |\n",
       "|  6 | accuracy | binary | 0.5830780 | 5 | 0.032368318 | Preprocessor1_Model06 |\n",
       "|  7 | accuracy | binary | 0.5903763 | 5 | 0.024304465 | Preprocessor1_Model07 |\n",
       "|  8 | accuracy | binary | 0.5837097 | 5 | 0.022180205 | Preprocessor1_Model08 |\n",
       "|  9 | accuracy | binary | 0.5837097 | 5 | 0.022180205 | Preprocessor1_Model09 |\n",
       "| 10 | accuracy | binary | 0.5703763 | 5 | 0.023688333 | Preprocessor1_Model10 |\n",
       "| 11 | accuracy | binary | 0.6161962 | 5 | 0.039363654 | Preprocessor1_Model11 |\n",
       "| 12 | accuracy | binary | 0.6036962 | 5 | 0.038149852 | Preprocessor1_Model12 |\n",
       "| 13 | accuracy | binary | 0.6691129 | 5 | 0.017290631 | Preprocessor1_Model13 |\n",
       "| 14 | accuracy | binary | 0.6622312 | 5 | 0.007939215 | Preprocessor1_Model14 |\n",
       "| 15 | accuracy | binary | 0.6947043 | 5 | 0.008106923 | Preprocessor1_Model15 |\n",
       "| 16 | accuracy | binary | 0.6947043 | 5 | 0.008106923 | Preprocessor1_Model16 |\n",
       "| 17 | accuracy | binary | 0.7338575 | 5 | 0.004238477 | Preprocessor1_Model17 |\n",
       "| 18 | accuracy | binary | 0.7213575 | 5 | 0.016390141 | Preprocessor1_Model18 |\n",
       "| 19 | accuracy | binary | 0.7338575 | 5 | 0.004238477 | Preprocessor1_Model19 |\n",
       "| 20 | accuracy | binary | 0.7338575 | 5 | 0.004238477 | Preprocessor1_Model20 |\n",
       "| 21 | accuracy | binary | 0.7338575 | 5 | 0.004238477 | Preprocessor1_Model21 |\n",
       "| 22 | accuracy | binary | 0.7338575 | 5 | 0.004238477 | Preprocessor1_Model22 |\n",
       "| 23 | accuracy | binary | 0.7338575 | 5 | 0.004238477 | Preprocessor1_Model23 |\n",
       "| 24 | accuracy | binary | 0.7338575 | 5 | 0.004238477 | Preprocessor1_Model24 |\n",
       "| 25 | accuracy | binary | 0.7338575 | 5 | 0.004238477 | Preprocessor1_Model25 |\n",
       "| 26 | accuracy | binary | 0.7338575 | 5 | 0.004238477 | Preprocessor1_Model26 |\n",
       "| 27 | accuracy | binary | 0.7338575 | 5 | 0.004238477 | Preprocessor1_Model27 |\n",
       "| 28 | accuracy | binary | 0.7338575 | 5 | 0.004238477 | Preprocessor1_Model28 |\n",
       "| 29 | accuracy | binary | 0.7338575 | 5 | 0.004238477 | Preprocessor1_Model29 |\n",
       "| 30 | accuracy | binary | 0.7338575 | 5 | 0.004238477 | Preprocessor1_Model30 |\n",
       "\n"
      ],
      "text/plain": [
       "   neighbors .metric  .estimator mean      n std_err     .config              \n",
       "1   1        accuracy binary     0.4872984 5 0.021885027 Preprocessor1_Model01\n",
       "2   2        accuracy binary     0.4872984 5 0.021885027 Preprocessor1_Model02\n",
       "3   3        accuracy binary     0.5385081 5 0.029613802 Preprocessor1_Model03\n",
       "4   4        accuracy binary     0.5185081 5 0.034894319 Preprocessor1_Model04\n",
       "5   5        accuracy binary     0.5830780 5 0.032368318 Preprocessor1_Model05\n",
       "6   6        accuracy binary     0.5830780 5 0.032368318 Preprocessor1_Model06\n",
       "7   7        accuracy binary     0.5903763 5 0.024304465 Preprocessor1_Model07\n",
       "8   8        accuracy binary     0.5837097 5 0.022180205 Preprocessor1_Model08\n",
       "9   9        accuracy binary     0.5837097 5 0.022180205 Preprocessor1_Model09\n",
       "10 10        accuracy binary     0.5703763 5 0.023688333 Preprocessor1_Model10\n",
       "11 11        accuracy binary     0.6161962 5 0.039363654 Preprocessor1_Model11\n",
       "12 12        accuracy binary     0.6036962 5 0.038149852 Preprocessor1_Model12\n",
       "13 13        accuracy binary     0.6691129 5 0.017290631 Preprocessor1_Model13\n",
       "14 14        accuracy binary     0.6622312 5 0.007939215 Preprocessor1_Model14\n",
       "15 15        accuracy binary     0.6947043 5 0.008106923 Preprocessor1_Model15\n",
       "16 16        accuracy binary     0.6947043 5 0.008106923 Preprocessor1_Model16\n",
       "17 17        accuracy binary     0.7338575 5 0.004238477 Preprocessor1_Model17\n",
       "18 18        accuracy binary     0.7213575 5 0.016390141 Preprocessor1_Model18\n",
       "19 19        accuracy binary     0.7338575 5 0.004238477 Preprocessor1_Model19\n",
       "20 20        accuracy binary     0.7338575 5 0.004238477 Preprocessor1_Model20\n",
       "21 21        accuracy binary     0.7338575 5 0.004238477 Preprocessor1_Model21\n",
       "22 22        accuracy binary     0.7338575 5 0.004238477 Preprocessor1_Model22\n",
       "23 23        accuracy binary     0.7338575 5 0.004238477 Preprocessor1_Model23\n",
       "24 24        accuracy binary     0.7338575 5 0.004238477 Preprocessor1_Model24\n",
       "25 25        accuracy binary     0.7338575 5 0.004238477 Preprocessor1_Model25\n",
       "26 26        accuracy binary     0.7338575 5 0.004238477 Preprocessor1_Model26\n",
       "27 27        accuracy binary     0.7338575 5 0.004238477 Preprocessor1_Model27\n",
       "28 28        accuracy binary     0.7338575 5 0.004238477 Preprocessor1_Model28\n",
       "29 29        accuracy binary     0.7338575 5 0.004238477 Preprocessor1_Model29\n",
       "30 30        accuracy binary     0.7338575 5 0.004238477 Preprocessor1_Model30"
      ]
     },
     "metadata": {},
     "output_type": "display_data"
    }
   ],
   "source": [
    "knn_results <- workflow() |>\n",
    "  add_recipe(recipe) |>\n",
    "  add_model(spec) |>\n",
    "  tune_grid(resamples = player_fold, grid = k_vals) |>\n",
    "  collect_metrics()\n",
    "\n",
    "accuracies <- knn_results |>\n",
    "  filter(.metric == \"accuracy\")\n",
    "\n",
    "accuracies\n",
    "#19 is best K "
   ]
  },
  {
   "cell_type": "code",
   "execution_count": null,
   "id": "fe6898fe-3143-4919-abdf-337c7d64624d",
   "metadata": {},
   "outputs": [],
   "source": []
  },
  {
   "cell_type": "code",
   "execution_count": null,
   "id": "e0f9c773-2969-407c-ace4-ef9d55c3cf91",
   "metadata": {},
   "outputs": [],
   "source": []
  }
 ],
 "metadata": {
  "kernelspec": {
   "display_name": "R",
   "language": "R",
   "name": "ir"
  },
  "language_info": {
   "codemirror_mode": "r",
   "file_extension": ".r",
   "mimetype": "text/x-r-source",
   "name": "R",
   "pygments_lexer": "r",
   "version": "4.3.3"
  }
 },
 "nbformat": 4,
 "nbformat_minor": 5
}
